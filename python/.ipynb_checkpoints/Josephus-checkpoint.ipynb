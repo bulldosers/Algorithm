{
 "cells": [
  {
   "cell_type": "code",
   "execution_count": 1,
   "metadata": {},
   "outputs": [],
   "source": [
    "import numpy as np"
   ]
  },
  {
   "cell_type": "code",
   "execution_count": 7,
   "metadata": {},
   "outputs": [
    {
     "name": "stdout",
     "output_type": "stream",
     "text": [
      "3 6 9 2 7 1 8 5 10 4 "
     ]
    }
   ],
   "source": [
    "class ListNode:\n",
    "    def __init__(self, x):\n",
    "        self.val = x\n",
    "        self.next = None\n",
    "\n",
    "class Josephus:\n",
    "    def __init__(self, x):\n",
    "        self.n = x\n",
    "        self.head = ListNode(1)\n",
    "        pre = self.head\n",
    "        for i in range(2, x + 1):\n",
    "            pre.next = ListNode(i)\n",
    "            pre = pre.next\n",
    "        pre.next = self.head\n",
    "        self.tail = pre\n",
    "\n",
    "    def performKilling(self, d):\n",
    "        pre = cur = self.head\n",
    "        while cur.next != cur:\n",
    "            for i in range(1, d):\n",
    "                pre = cur\n",
    "                cur = cur.next\n",
    "            print(cur.val, end=' ')\n",
    "            pre.next = cur.next\n",
    "            cur = cur.next\n",
    "        print(cur.val, end=' ')\n",
    "    \n",
    "    def performKilling1(self, d):\n",
    "        pre = self.tail\n",
    "        while pre.next != pre:\n",
    "            for i in range(1, d):\n",
    "                pre = pre.next\n",
    "            print(pre.next.val, end=' ')\n",
    "            pre.next = pre.next.next\n",
    "        print(pre.next.val, end=' ')\n",
    "\n",
    "J = Josephus(10)\n",
    "J.performKilling1(3)"
   ]
  },
  {
   "cell_type": "code",
   "execution_count": null,
   "metadata": {},
   "outputs": [],
   "source": []
  },
  {
   "cell_type": "code",
   "execution_count": 4,
   "metadata": {},
   "outputs": [
    {
     "name": "stdout",
     "output_type": "stream",
     "text": [
      "3 6 9 2 7 1 8 5 10 4 "
     ]
    }
   ],
   "source": [
    "def fun(m, k, i):\n",
    "    if i == 1:\n",
    "        return (m + k - 1) % m\n",
    "    else:\n",
    "        return (fun(m - 1, k, i - 1) + k) % m\n",
    "\n",
    "\n",
    "for i in range(1, 11):\n",
    "    print(fun(10, 3, i)+1, end=' ')"
   ]
  },
  {
   "cell_type": "code",
   "execution_count": null,
   "metadata": {},
   "outputs": [],
   "source": []
  }
 ],
 "metadata": {
  "kernelspec": {
   "display_name": "Python 3",
   "language": "python",
   "name": "python3"
  },
  "language_info": {
   "codemirror_mode": {
    "name": "ipython",
    "version": 3
   },
   "file_extension": ".py",
   "mimetype": "text/x-python",
   "name": "python",
   "nbconvert_exporter": "python",
   "pygments_lexer": "ipython3",
   "version": "3.6.8"
  }
 },
 "nbformat": 4,
 "nbformat_minor": 2
}
