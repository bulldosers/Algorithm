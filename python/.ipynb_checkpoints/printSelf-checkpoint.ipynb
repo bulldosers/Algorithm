{
 "cells": [
  {
   "cell_type": "code",
   "execution_count": 2,
   "metadata": {},
   "outputs": [
    {
     "name": "stdout",
     "output_type": "stream",
     "text": [
      "q=chr(34)\n",
      "s=[\n",
      "\"q=chr(34)\",\n",
      "\"s=[\",\n",
      "\"]\",\n",
      "\"for i in range(2):\",\n",
      "\"    print (s[i])\",\n",
      "\"for i in range(len(s)):\",\n",
      "\"    print (q + s[i] + q + ',')\",\n",
      "\"for i in range(2, len(s)):\",\n",
      "\"    print (s[i])\",\n",
      "]\n",
      "for i in range(2):\n",
      "    print (s[i])\n",
      "for i in range(len(s)):\n",
      "    print (q + s[i] + q + ',')\n",
      "for i in range(2, len(s)):\n",
      "    print (s[i])\n"
     ]
    }
   ],
   "source": [
    "q=chr(34)\n",
    "s=[\n",
    "\"q=chr(34)\",\n",
    "\"s=[\",\n",
    "\"]\",\n",
    "\"for i in range(2):\",\n",
    "\"    print (s[i])\",\n",
    "\"for i in range(len(s)):\",\n",
    "\"    print (q + s[i] + q + ',')\",\n",
    "\"for i in range(2, len(s)):\",\n",
    "\"    print (s[i])\",\n",
    "]\n",
    "for i in range(2):\n",
    "    print (s[i])\n",
    "for i in range(len(s)):\n",
    "    print (q + s[i] + q + ',')\n",
    "for i in range(2, len(s)):\n",
    "    print (s[i])"
   ]
  },
  {
   "cell_type": "code",
   "execution_count": null,
   "metadata": {},
   "outputs": [],
   "source": []
  }
 ],
 "metadata": {
  "kernelspec": {
   "display_name": "Python 3",
   "language": "python",
   "name": "python3"
  },
  "language_info": {
   "codemirror_mode": {
    "name": "ipython",
    "version": 3
   },
   "file_extension": ".py",
   "mimetype": "text/x-python",
   "name": "python",
   "nbconvert_exporter": "python",
   "pygments_lexer": "ipython3",
   "version": "3.6.8"
  }
 },
 "nbformat": 4,
 "nbformat_minor": 2
}
