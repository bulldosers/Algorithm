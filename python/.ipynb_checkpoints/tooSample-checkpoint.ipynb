{
 "cells": [
  {
   "cell_type": "code",
   "execution_count": 1,
   "metadata": {},
   "outputs": [],
   "source": []
  },
  {
   "cell_type": "code",
   "execution_count": null,
   "metadata": {},
   "outputs": [],
   "source": [
    "import numpy as np\n",
    "from queue import PriorityQueue as PQ\n",
    "\n",
    "def merger(nums_list):\n",
    "    # 判读输入是否合法\n",
    "    if type(nums_list) != type([]):\n",
    "        return []\n",
    "    output = []\n",
    "    ptrs = [len(nums)-1 for nums in nums_list]\n",
    "\n",
    "    pq = PQ()\n",
    "    for i in range(len(ptrs)):\n",
    "        pq.put((-nums_list[i][ptrs[i]], i))\n",
    "\n",
    "    while output_len < output_size:\n",
    "        max_num, max_idx = pq.get()\n",
    "        output.append(-max_num)\n",
    "        output_len += 1\n",
    "        if ptrs[max_idx] > 0:\n",
    "            ptrs[max_idx] -= 1\n",
    "            pq.put((-nums_list[max_idx][ptrs[max_idx]], max_idx))\n",
    "    return output\n",
    "\n",
    "print (merger([[1,2],[0,3],[1,2,3,4,5]]))\n",
    "print (merger([]))\n",
    "print (merger(1))"
   ]
  },
  {
   "cell_type": "code",
   "execution_count": 11,
   "metadata": {},
   "outputs": [
    {
     "name": "stdout",
     "output_type": "stream",
     "text": [
      "[5, 4, 3, 3, 2, 2, 1, 1, 0]\n",
      "[]\n",
      "None\n"
     ]
    }
   ],
   "source": [
    "import numpy as np\n",
    "from queue import PriorityQueue as PQ\n",
    "\n",
    "class priorityQueue(Object):\n",
    "    def __init__(self):\n",
    "        self.empty = True\n",
    "        self.que = []\n",
    "    \n",
    "    def \n",
    "    \n",
    "def merger(nums_list):\n",
    "    if type(nums_list) != type([]):\n",
    "        return []\n",
    "    output = []\n",
    "    output_len = 0\n",
    "    ptrs = [len(nums)-1 for nums in nums_list]\n",
    "    output_size = 0\n",
    "    for nums in nums_list:\n",
    "        output_size += len(nums)\n",
    "\n",
    "    pq = PQ()\n",
    "    for i in range(len(ptrs)):\n",
    "        pq.put((-nums_list[i][ptrs[i]], i))\n",
    "\n",
    "    while output_len < output_size:\n",
    "        max_num, max_idx = pq.get()\n",
    "        output.append(-max_num)\n",
    "        output_len += 1\n",
    "        if ptrs[max_idx] > 0:\n",
    "            ptrs[max_idx] -= 1\n",
    "            pq.put((-nums_list[max_idx][ptrs[max_idx]], max_idx))\n",
    "    return output\n",
    "\n",
    "print (merger([[1,2],[0,3],[1,2,3,4,5]]))\n",
    "print (merger([]))\n",
    "print (merger(1))"
   ]
  },
  {
   "cell_type": "code",
   "execution_count": 21,
   "metadata": {},
   "outputs": [
    {
     "ename": "AttributeError",
     "evalue": "'PriorityQueue' object has no attribute '__empty__'",
     "output_type": "error",
     "traceback": [
      "\u001b[0;31m---------------------------------------------------------------------------\u001b[0m",
      "\u001b[0;31mAttributeError\u001b[0m                            Traceback (most recent call last)",
      "\u001b[0;32m<ipython-input-21-69565eb486d0>\u001b[0m in \u001b[0;36m<module>\u001b[0;34m\u001b[0m\n\u001b[1;32m     59\u001b[0m     \u001b[0;32mfor\u001b[0m \u001b[0mi\u001b[0m \u001b[0;32min\u001b[0m \u001b[0mreversed\u001b[0m\u001b[0;34m(\u001b[0m\u001b[0mrange\u001b[0m\u001b[0;34m(\u001b[0m\u001b[0mn\u001b[0m\u001b[0;34m)\u001b[0m\u001b[0;34m)\u001b[0m\u001b[0;34m:\u001b[0m\u001b[0;34m\u001b[0m\u001b[0;34m\u001b[0m\u001b[0m\n\u001b[1;32m     60\u001b[0m         \u001b[0;32massert\u001b[0m \u001b[0mi\u001b[0m \u001b[0;34m==\u001b[0m \u001b[0mh\u001b[0m\u001b[0;34m.\u001b[0m\u001b[0mget\u001b[0m\u001b[0;34m(\u001b[0m\u001b[0;34m)\u001b[0m\u001b[0;34m\u001b[0m\u001b[0;34m\u001b[0m\u001b[0m\n\u001b[0;32m---> 61\u001b[0;31m \u001b[0mtest_maxheap\u001b[0m\u001b[0;34m(\u001b[0m\u001b[0;34m)\u001b[0m\u001b[0;34m\u001b[0m\u001b[0;34m\u001b[0m\u001b[0m\n\u001b[0m",
      "\u001b[0;32m<ipython-input-19-aac5a04c2b0d>\u001b[0m in \u001b[0;36mtest_maxheap\u001b[0;34m()\u001b[0m\n\u001b[1;32m     54\u001b[0m     \u001b[0;32mfor\u001b[0m \u001b[0mi\u001b[0m \u001b[0;32min\u001b[0m \u001b[0mreversed\u001b[0m\u001b[0;34m(\u001b[0m\u001b[0mrange\u001b[0m\u001b[0;34m(\u001b[0m\u001b[0mn\u001b[0m\u001b[0;34m)\u001b[0m\u001b[0;34m)\u001b[0m\u001b[0;34m:\u001b[0m\u001b[0;34m\u001b[0m\u001b[0;34m\u001b[0m\u001b[0m\n\u001b[1;32m     55\u001b[0m         \u001b[0;32massert\u001b[0m \u001b[0mi\u001b[0m \u001b[0;34m==\u001b[0m \u001b[0mh\u001b[0m\u001b[0;34m.\u001b[0m\u001b[0mget\u001b[0m\u001b[0;34m(\u001b[0m\u001b[0;34m)\u001b[0m\u001b[0;34m\u001b[0m\u001b[0;34m\u001b[0m\u001b[0m\n\u001b[0;32m---> 56\u001b[0;31m     \u001b[0;32massert\u001b[0m \u001b[0mh\u001b[0m\u001b[0;34m.\u001b[0m\u001b[0m__empty__\u001b[0m\u001b[0;34m(\u001b[0m\u001b[0;34m)\u001b[0m\u001b[0;34m\u001b[0m\u001b[0;34m\u001b[0m\u001b[0m\n\u001b[0m\u001b[1;32m     57\u001b[0m \u001b[0mtest_maxheap\u001b[0m\u001b[0;34m(\u001b[0m\u001b[0;34m)\u001b[0m\u001b[0;34m\u001b[0m\u001b[0;34m\u001b[0m\u001b[0m\n",
      "\u001b[0;31mAttributeError\u001b[0m: 'PriorityQueue' object has no attribute '__empty__'"
     ]
    }
   ],
   "source": [
    "class PriorityQueue(object):\n",
    "    def __init__(self):\n",
    "        self.que = []\n",
    "        self._count = 0\n",
    "\n",
    "    def __len__(self):\n",
    "        return self._count\n",
    "\n",
    "    def add(self, value):\n",
    "        self.que.append(value)\n",
    "        self._count += 1\n",
    "        self._siftup(self._count-1)  # 维持堆的特性\n",
    "\n",
    "    def _siftup(self, ndx):\n",
    "        if ndx > 0:\n",
    "            parent = int((ndx-1)/2)\n",
    "            if self.que[ndx] > self.que[parent]:    # 如果插入的值大于 parent，一直交换\n",
    "                self.que[ndx], self.que[parent] = self.que[parent], self.que[ndx]\n",
    "                self._siftup(parent)    # 递归\n",
    "\n",
    "    def get(self):\n",
    "        if self._count <= 0:\n",
    "            raise Exception('empty')\n",
    "        value = self.que[0]    # 保存 root 值\n",
    "        self._count -= 1\n",
    "        self.que[0] = self.que[self._count]    # 最右下的节点放到root后siftDown\n",
    "        self._siftdown(0)    # 维持堆特性\n",
    "        self.que.pop()\n",
    "        return value\n",
    "\n",
    "    def _siftdown(self, ndx):\n",
    "        left = 2 * ndx + 1\n",
    "        right = 2 * ndx + 2\n",
    "        # determine which node contains the larger value\n",
    "        largest = ndx\n",
    "        if (left < self._count and     # 有左孩子\n",
    "                self.que[left] >= self.que[largest] and\n",
    "                self.que[left] >= self.que[right]):  # 原书这个地方没写实际上找的未必是largest\n",
    "            largest = left\n",
    "        elif right < self._count and self.que[right] >= self.que[largest]:\n",
    "            largest = right\n",
    "        if largest != ndx:\n",
    "            self.que[ndx], self.que[largest] = self.que[largest], self.que[ndx]\n",
    "            self._siftdown(largest)\n",
    "    \n",
    "    def empty(self):\n",
    "        return self._count == 0  \n",
    "\n",
    "def test_PriorityQueue():\n",
    "    n = 5\n",
    "    h = PriorityQueue()\n",
    "    for i in range(n):\n",
    "        h.add(i)\n",
    "    for i in reversed(range(n)):\n",
    "        assert i == h.get()\n",
    "    n = 5\n",
    "    for i in range(n):\n",
    "        h.add(i)\n",
    "    for i in reversed(range(n)):\n",
    "        assert i == h.get()\n",
    "test_maxheap()"
   ]
  },
  {
   "cell_type": "code",
   "execution_count": null,
   "metadata": {},
   "outputs": [],
   "source": []
  }
 ],
 "metadata": {
  "kernelspec": {
   "display_name": "Python 3",
   "language": "python",
   "name": "python3"
  },
  "language_info": {
   "codemirror_mode": {
    "name": "ipython",
    "version": 3
   },
   "file_extension": ".py",
   "mimetype": "text/x-python",
   "name": "python",
   "nbconvert_exporter": "python",
   "pygments_lexer": "ipython3",
   "version": "3.6.8"
  }
 },
 "nbformat": 4,
 "nbformat_minor": 2
}
