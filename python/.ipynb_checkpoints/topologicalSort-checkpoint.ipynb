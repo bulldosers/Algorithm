{
 "cells": [
  {
   "cell_type": "code",
   "execution_count": 1,
   "metadata": {},
   "outputs": [],
   "source": [
    "import numpy as np"
   ]
  },
  {
   "cell_type": "code",
   "execution_count": 3,
   "metadata": {},
   "outputs": [
    {
     "name": "stdout",
     "output_type": "stream",
     "text": [
      "['a', 'b', 'c', 'd', 'e', 'f']\n"
     ]
    }
   ],
   "source": [
    "def topsort(G):\n",
    "    in_degrees = dict((u, 0) for u in G)\n",
    "    for u in G:\n",
    "        for v in  G[u]:\n",
    "            in_degrees[v] += 1\n",
    "                                    # 每一个节点的入度\n",
    "    Q = [u for u in G if in_degrees[u] == 0]\n",
    "                                    # 入度为 0 的节点\n",
    "    S = []\n",
    "    while Q:\n",
    "        u = Q.pop()\n",
    "                                    # 默认从最后一个移除\n",
    "        S.append(u)\n",
    "        for v in G[u]:\n",
    "            in_degrees[v] -= 1\n",
    "                                    # 并移除其指向\n",
    "            if in_degrees[v] == 0:\n",
    "                Q.append(v)\n",
    "    return S\n",
    "\n",
    "G = {\n",
    "    'a':'bf',\n",
    "    'b':'cdf',\n",
    "    'c':'d',\n",
    "    'd':'ef',\n",
    "    'e':'f',\n",
    "    'f':''\n",
    "}\n",
    "print(topsort(G))\n",
    "#['a', 'b', 'c', 'd', 'e', 'f']"
   ]
  },
  {
   "cell_type": "code",
   "execution_count": null,
   "metadata": {},
   "outputs": [],
   "source": []
  },
  {
   "cell_type": "code",
   "execution_count": 4,
   "metadata": {},
   "outputs": [
    {
     "name": "stdout",
     "output_type": "stream",
     "text": [
      "拓扑排序结果：\n",
      "[5, 4, 2, 3, 1, 0]\n"
     ]
    }
   ],
   "source": [
    "from collections import defaultdict \n",
    " \n",
    "class Graph: \n",
    "    def __init__(self,vertices): \n",
    "        self.graph = defaultdict(list) \n",
    "        self.V = vertices\n",
    "  \n",
    "    def addEdge(self,u,v): \n",
    "        self.graph[u].append(v) \n",
    "  \n",
    "    def topologicalSortUtil(self,v,visited,stack): \n",
    "  \n",
    "        visited[v] = True\n",
    "  \n",
    "        for i in self.graph[v]: \n",
    "            if visited[i] == False: \n",
    "                self.topologicalSortUtil(i,visited,stack) \n",
    "  \n",
    "        stack.insert(0,v) \n",
    "  \n",
    "    def topologicalSort(self): \n",
    "        visited = [False]*self.V \n",
    "        stack =[] \n",
    "  \n",
    "        for i in range(self.V): \n",
    "            if visited[i] == False: \n",
    "                self.topologicalSortUtil(i,visited,stack) \n",
    "  \n",
    "        print (stack) \n",
    "  \n",
    "g= Graph(6) \n",
    "g.addEdge(5, 2); \n",
    "g.addEdge(5, 0); \n",
    "g.addEdge(4, 0); \n",
    "g.addEdge(4, 1); \n",
    "g.addEdge(2, 3); \n",
    "g.addEdge(3, 1); \n",
    "  \n",
    "print (\"拓扑排序结果：\")\n",
    "g.topologicalSort()"
   ]
  },
  {
   "cell_type": "code",
   "execution_count": null,
   "metadata": {},
   "outputs": [],
   "source": []
  },
  {
   "cell_type": "code",
   "execution_count": 11,
   "metadata": {},
   "outputs": [
    {
     "name": "stdout",
     "output_type": "stream",
     "text": [
      "拓扑排序结果：\n",
      "5\n",
      "2\n",
      "3\n",
      "4\n",
      "1\n",
      "0\n"
     ]
    }
   ],
   "source": [
    "from collections import defaultdict \n",
    " \n",
    "class Graph: \n",
    "    def __init__(self,vertices): \n",
    "        self.graph = defaultdict(list) \n",
    "        self.V = vertices\n",
    "  \n",
    "    def addEdge(self,u,v): \n",
    "        self.graph[u].append(v)\n",
    "    \n",
    "    def topologicalSort(self):\n",
    "        visited = [False]*self.V\n",
    "        du = [0] * self.V\n",
    "        for i in range(self.V):\n",
    "            for j in self.graph[i]:\n",
    "                du[j] += 1\n",
    "        stack = [i for i in range(self.V) if du[i] == 0]\n",
    "        while stack:\n",
    "            top = stack.pop()\n",
    "            for j in self.graph[top]:\n",
    "                du[j] -= 1\n",
    "                if du[j] == 0:\n",
    "                    stack.append(j)\n",
    "            print (top,)\n",
    "#         stack = [i for i in range(self.V) if du[i] == 0]\n",
    "#         stack_size = len(stack)\n",
    "#         while stack_size > 0:\n",
    "#             top = stack.pop()\n",
    "#             stack_size -= 1\n",
    "#             for j in self.graph[top]:\n",
    "#                 du[j] -= 1\n",
    "#                 if du[j] == 0:\n",
    "#                     stack.append(j)\n",
    "#                     stack_size += 1\n",
    "#             print (top,)\n",
    "\n",
    "g= Graph(6) \n",
    "g.addEdge(5, 2); \n",
    "g.addEdge(5, 0); \n",
    "g.addEdge(4, 0); \n",
    "g.addEdge(4, 1); \n",
    "g.addEdge(2, 3); \n",
    "g.addEdge(3, 1); \n",
    "print (\"拓扑排序结果：\")\n",
    "g.topologicalSort()"
   ]
  },
  {
   "cell_type": "code",
   "execution_count": null,
   "metadata": {},
   "outputs": [],
   "source": []
  },
  {
   "cell_type": "code",
   "execution_count": null,
   "metadata": {},
   "outputs": [],
   "source": []
  }
 ],
 "metadata": {
  "kernelspec": {
   "display_name": "Python 3",
   "language": "python",
   "name": "python3"
  },
  "language_info": {
   "codemirror_mode": {
    "name": "ipython",
    "version": 3
   },
   "file_extension": ".py",
   "mimetype": "text/x-python",
   "name": "python",
   "nbconvert_exporter": "python",
   "pygments_lexer": "ipython3",
   "version": "3.6.8"
  }
 },
 "nbformat": 4,
 "nbformat_minor": 2
}
