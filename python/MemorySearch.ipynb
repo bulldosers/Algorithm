{
 "cells": [
  {
   "cell_type": "code",
   "execution_count": 17,
   "metadata": {},
   "outputs": [
    {
     "name": "stdout",
     "output_type": "stream",
     "text": [
      "2 3\n",
      "1 2 3\n",
      "6 5 4\n",
      "6\n",
      "1 0\n",
      "[[1, 2, 3], [6, 5, 4]]\n",
      "1 0 6\n",
      "1 1 5\n",
      "1 2 4\n",
      "0 2 3\n",
      "0 1 2\n",
      "0 0 1\n"
     ]
    }
   ],
   "source": [
    "# i,j 是当前坐标；\n",
    "# k是当前坐标上的值\n",
    "# R 行\n",
    "# C 列\n",
    "# A 地图矩阵\n",
    "# dis 动态规划的记忆矩阵\n",
    "def dfs(i, j, k, R, C, A, dis):\n",
    "    ## 判断是否已经搜索过\n",
    "    if i>=0 and i<R and j>=0 and j<C and A[i][j]<k and dis[i][j]>0:\n",
    "        return dis[i][j]\n",
    "    elif i>=0 and i<R and j>=0 and j<C and A[i][j]<k:\n",
    "        ## 四个方向搜索\n",
    "        l=dfs(i,j-1,A[i][j],R,C,A,dis)\n",
    "        u=dfs(i-1,j,A[i][j],R,C,A,dis)\n",
    "        r=dfs(i,j+1,A[i][j],R,C,A,dis)\n",
    "        d=dfs(i+1,j,A[i][j],R,C,A,dis)\n",
    "        dis[i][j]=1+max(l,u,r,d)  #！！（2）\n",
    "        return dis[i][j]\n",
    "    else:\n",
    "        return 0\n",
    "\n",
    "def print_path(i, j, R, C, A, dis):\n",
    "    print (i, j, A[i][j])\n",
    "    if dis[i][j] == 1:\n",
    "        return\n",
    "    dxs = [-1, 0, 1, 0]\n",
    "    dys = [0, 1, 0, -1]\n",
    "    for k in range(4):\n",
    "        dx = dxs[k]\n",
    "        dy = dys[k]\n",
    "        x = i + dx\n",
    "        y = j + dy\n",
    "        if x>=0 and x<R and y>=0 and y<C and dis[x][y]+1 == dis[i][j]:\n",
    "            print_path(x, y, R, C, A, dis)\n",
    "            break\n",
    "                \n",
    "            \n",
    "def test():\n",
    "    R, C = map(int,input().split()) #输入矩阵\n",
    "    A=[[] for i in range(R)]\n",
    "    for i in range(R):\n",
    "        A[i]=[int(n) for n in input().split()]  #输入矩阵\n",
    "\n",
    "    dis=[[0 for i in range(C)] for j in range(R)] #作为顶点的最长路径\n",
    "\n",
    "    Max=0\n",
    "    ori_x, ori_y = 0, 0\n",
    "    for i in range(R):\n",
    "        for j in range(C):\n",
    "            t=dfs(i,j,A[i][j]+1,R,C,A,dis)\n",
    "            dis[i][j]=t\n",
    "            if Max<dis[i][j]:\n",
    "                Max=dis[i][j]\n",
    "                ori_x = i\n",
    "                ori_y = j\n",
    "\n",
    "    print(Max)\n",
    "    print(ori_x, ori_y)\n",
    "    print(dis)\n",
    "    print_path(ori_x, ori_y, R, C, A, dis)\n",
    "\n",
    "test()"
   ]
  },
  {
   "cell_type": "code",
   "execution_count": null,
   "metadata": {},
   "outputs": [],
   "source": [
    "2 3\n",
    "1 2 3\n",
    "6 5 4"
   ]
  }
 ],
 "metadata": {
  "kernelspec": {
   "display_name": "Python 3",
   "language": "python",
   "name": "python3"
  },
  "language_info": {
   "codemirror_mode": {
    "name": "ipython",
    "version": 3
   },
   "file_extension": ".py",
   "mimetype": "text/x-python",
   "name": "python",
   "nbconvert_exporter": "python",
   "pygments_lexer": "ipython3",
   "version": "3.6.8"
  }
 },
 "nbformat": 4,
 "nbformat_minor": 2
}
