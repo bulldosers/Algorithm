{
 "cells": [
  {
   "cell_type": "code",
   "execution_count": 1,
   "metadata": {},
   "outputs": [],
   "source": [
    "import numpy as np"
   ]
  },
  {
   "cell_type": "code",
   "execution_count": 2,
   "metadata": {},
   "outputs": [],
   "source": [
    "import heapq\n",
    "# #向堆中插入元素，heapq会维护列表heap中的元素保持堆的性质\n",
    "# heapq.heappush(heap, item)\n",
    "# #heapq把列表x转换成堆\n",
    "# heapq.heapify(x)\n",
    "# #从可迭代的迭代器中返回最大的n个数，可以指定比较的key\n",
    "# heapq.nlargest(n, iterable[, key])\n",
    "# #从可迭代的迭代器中返回最小的n个数，可以指定比较的key\n",
    "# heapq.nsmallest(n, iterable[, key])\n",
    "# #从堆中删除元素，返回值是堆中最小或者最大的元素\n",
    "# heapq.heappop(heap)"
   ]
  },
  {
   "cell_type": "code",
   "execution_count": 4,
   "metadata": {},
   "outputs": [
    {
     "name": "stdout",
     "output_type": "stream",
     "text": [
      "[10, 10, 9, 9, 8, 8, 7, 7, 6, 6]\n",
      "[0, 1, 1, 1, 2, 2, 3, 3, 4, 4, 5.0, 5, 5, 6, 6, 7, 7, 8, 8, 9, 9, 10, 10]\n"
     ]
    }
   ],
   "source": [
    "def heapq_int():\n",
    "    heap = []\n",
    "    #以堆的形式插入堆\n",
    "    heapq.heappush(heap,10)\n",
    "    heapq.heappush(heap,1)\n",
    "    heapq.heappush(heap,10/2)\n",
    "    [heapq.heappush(heap,i) for i in  range(10)]\n",
    "    [heapq.heappush(heap,10 - i) for i in  range(10)]\n",
    "    #最大的10个元素\n",
    "    print (heapq.nlargest(10,heap))\n",
    "    #输出所有元素\n",
    "    print ([heapq.heappop(heap) for i in range(len(heap))])\n",
    "heapq_int()"
   ]
  },
  {
   "cell_type": "code",
   "execution_count": 8,
   "metadata": {},
   "outputs": [
    {
     "name": "stdout",
     "output_type": "stream",
     "text": [
      "(1, 0, <__main__.A object at 0x7fe65320add8>)\n",
      "(1, 1, <__main__.A object at 0x7fe65320ab70>)\n",
      "[(-2, 'a'), (-1, 'b')]\n",
      "(-2, 'a')\n",
      "[(-1, 'b')]\n"
     ]
    }
   ],
   "source": [
    "from queue import PriorityQueue as PQ\n",
    "pq = PQ()\n",
    "class A:\n",
    "    def __init__(self, val):\n",
    "        self.val = val\n",
    "index = 0\n",
    "pq.put((1, index, A(1)))\n",
    "index += 1\n",
    "pq.put((1, index, A(2)))\n",
    "print(pq.get()) \n",
    "print(pq.get()) \n",
    "\n",
    "pq = PQ()\n",
    "pq.put((-2, 'a'))\n",
    "pq.put((-1, 'b'))\n",
    "print(pq.queue) # output: [(-2, 'a'), (-1, 'b')]\n",
    "print(pq.get()) # output: (-2, 'a')\n",
    "print(pq.queue) # output: [(-1, 'b')]\n",
    "print(pq.em())"
   ]
  },
  {
   "cell_type": "code",
   "execution_count": 9,
   "metadata": {},
   "outputs": [
    {
     "name": "stdout",
     "output_type": "stream",
     "text": [
      "1\n",
      "2\n",
      "3\n"
     ]
    }
   ],
   "source": [
    "queue = []\n",
    "queue.append(1)\n",
    "queue.append(2)\n",
    "queue.append(3)\n",
    "print (queue.pop(0))\n",
    "print (queue.pop(0))\n",
    "print (queue.pop(0))"
   ]
  },
  {
   "cell_type": "code",
   "execution_count": 10,
   "metadata": {},
   "outputs": [
    {
     "name": "stdout",
     "output_type": "stream",
     "text": [
      "3\n",
      "2\n",
      "1\n"
     ]
    }
   ],
   "source": [
    "stack = []\n",
    "queue.append(1)\n",
    "queue.append(2)\n",
    "queue.append(3)\n",
    "print (queue.pop())\n",
    "print (queue.pop())\n",
    "print (queue.pop())"
   ]
  },
  {
   "cell_type": "code",
   "execution_count": null,
   "metadata": {},
   "outputs": [],
   "source": []
  }
 ],
 "metadata": {
  "kernelspec": {
   "display_name": "Python 3",
   "language": "python",
   "name": "python3"
  },
  "language_info": {
   "codemirror_mode": {
    "name": "ipython",
    "version": 3
   },
   "file_extension": ".py",
   "mimetype": "text/x-python",
   "name": "python",
   "nbconvert_exporter": "python",
   "pygments_lexer": "ipython3",
   "version": "3.6.8"
  }
 },
 "nbformat": 4,
 "nbformat_minor": 2
}
