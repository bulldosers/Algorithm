{
 "cells": [
  {
   "cell_type": "code",
   "execution_count": 1,
   "metadata": {},
   "outputs": [
    {
     "name": "stdout",
     "output_type": "stream",
     "text": [
      "[1, 3, 0, 2]\n",
      "[2, 0, 3, 1]\n"
     ]
    }
   ],
   "source": [
    "def Queen(A, row=0, n=4):\n",
    "    if row == n:\n",
    "        print (A)\n",
    "        return\n",
    "    for column in range(n):\n",
    "        flag = True\n",
    "        for other_row in range(len(A)):\n",
    "            other_column = A[other_row]\n",
    "            if column == other_column or (other_row-other_column) == (row-column) \\\n",
    "                or (other_row+other_column) == (row+column):\n",
    "                flag = False\n",
    "                break\n",
    "        if flag:\n",
    "            Queen(A+[column], row+1)\n",
    "Queen([])"
   ]
  },
  {
   "cell_type": "code",
   "execution_count": null,
   "metadata": {},
   "outputs": [],
   "source": []
  },
  {
   "cell_type": "code",
   "execution_count": 2,
   "metadata": {},
   "outputs": [
    {
     "name": "stdout",
     "output_type": "stream",
     "text": [
      "0 \n",
      "0 1 \n",
      "0 1 2 \n"
     ]
    }
   ],
   "source": [
    "def RecursivePrint(n):\n",
    "    if n == 0:\n",
    "        return\n",
    "    RecursivePrint(n-1)\n",
    "    for i in range(n):\n",
    "        print(i, end=' ')\n",
    "    print()\n",
    "RecursivePrint(3)"
   ]
  },
  {
   "cell_type": "code",
   "execution_count": 3,
   "metadata": {},
   "outputs": [
    {
     "name": "stdout",
     "output_type": "stream",
     "text": [
      "\n"
     ]
    }
   ],
   "source": []
  },
  {
   "cell_type": "code",
   "execution_count": 18,
   "metadata": {},
   "outputs": [
    {
     "name": "stdout",
     "output_type": "stream",
     "text": [
      "[[0, 1, 2], [0, 1, 3], [0, 2, 1], [0, 2, 3], [0, 3, 1], [0, 3, 2], [1, 0, 2], [1, 0, 3], [1, 2, 0], [1, 2, 3], [1, 3, 0], [1, 3, 2], [2, 0, 1], [2, 0, 3], [2, 1, 0], [2, 1, 3], [2, 3, 0], [2, 3, 1], [3, 0, 1], [3, 0, 2], [3, 1, 0], [3, 1, 2], [3, 2, 0], [3, 2, 1]]\n"
     ]
    }
   ],
   "source": [
    "def Permutations(A=[], cur=0, n=4, result=[]):\n",
    "    if cur == n:\n",
    "        # print (A)\n",
    "        result.append(A)\n",
    "        return\n",
    "    for i in range(n):\n",
    "        if i not in A:\n",
    "            Permutations(A+[i], cur+1, n, result)\n",
    "\n",
    "ans = []\n",
    "Permutations(result = ans)\n",
    "print (ans)"
   ]
  },
  {
   "cell_type": "code",
   "execution_count": null,
   "metadata": {},
   "outputs": [],
   "source": []
  },
  {
   "cell_type": "code",
   "execution_count": 6,
   "metadata": {},
   "outputs": [
    {
     "name": "stdout",
     "output_type": "stream",
     "text": [
      "A --> C\n",
      "A --> B\n",
      "C --> B\n",
      "A --> C\n",
      "B --> A\n",
      "B --> C\n",
      "A --> C\n"
     ]
    }
   ],
   "source": [
    "def hanoi(n, a, b, c):\n",
    "    if n == 1:\n",
    "        print(a, '-->', c)\n",
    "    else:\n",
    "        hanoi(n - 1, a, c, b)\n",
    "        hanoi(1    , a, b, c)\n",
    "        hanoi(n - 1, b, a, c)\n",
    "# 调用\n",
    "if __name__ == '__main__':\n",
    "    hanoi(3, 'A', 'B', 'C')"
   ]
  },
  {
   "cell_type": "code",
   "execution_count": null,
   "metadata": {},
   "outputs": [],
   "source": []
  }
 ],
 "metadata": {
  "kernelspec": {
   "display_name": "Python 3",
   "language": "python",
   "name": "python3"
  },
  "language_info": {
   "codemirror_mode": {
    "name": "ipython",
    "version": 3
   },
   "file_extension": ".py",
   "mimetype": "text/x-python",
   "name": "python",
   "nbconvert_exporter": "python",
   "pygments_lexer": "ipython3",
   "version": "3.6.8"
  }
 },
 "nbformat": 4,
 "nbformat_minor": 2
}
