{
 "cells": [
  {
   "cell_type": "code",
   "execution_count": null,
   "metadata": {},
   "outputs": [
    {
     "name": "stdout",
     "output_type": "stream",
     "text": [
      "10 30\n",
      "75 90 16 45 21 47 76 1 95 43 1 2 16\n",
      "[75, 90, 16, 45, 21, 47, 76, 1, 95, 43, 1, 2, 16]\n",
      "1 3 61\n"
     ]
    }
   ],
   "source": [
    "n, m = map(int, input().split())\n",
    "val = list(map(int, input().split()))\n",
    "class Graph(object):\n",
    "    def __init__(self, n):\n",
    "        self._g = [[] for x in range(n)]\n",
    "        self._n = n \n",
    "    def add(self, x, y, w):\n",
    "        self._g[x].append((y,2*w))\n",
    "        self._g[y].append((x,2*w))\n",
    "\n",
    "g = Graph(n)\n",
    "print (val)\n",
    "for i in range(m):\n",
    "    x, y, w = list(map(int, input().split()))\n",
    "    g.add(x-1,y-1,w)\n",
    "\n",
    "def min(x, y):\n",
    "    return x if x < y else y\n",
    "def dfs(x, g, dis, vis):\n",
    "    if vis[x]:\n",
    "        return dis[x]\n",
    "    vis[x] = True\n",
    "    for y,w in g._g[x]:\n",
    "        dis[x] = min(w+dfs(y,g,dis,vis), dis[x])\n",
    "    return dis[x]\n",
    "\n",
    "dis = val[:]\n",
    "vis = [False]*n\n",
    "for i in range(n):\n",
    "    if not vis[i]:    \n",
    "        dfs(i, g, dis, vis)\n",
    "for i in range(n):\n",
    "    print (dis[i])"
   ]
  },
  {
   "cell_type": "code",
   "execution_count": null,
   "metadata": {},
   "outputs": [],
   "source": []
  }
 ],
 "metadata": {
  "kernelspec": {
   "display_name": "Python 3",
   "language": "python",
   "name": "python3"
  },
  "language_info": {
   "codemirror_mode": {
    "name": "ipython",
    "version": 3
   },
   "file_extension": ".py",
   "mimetype": "text/x-python",
   "name": "python",
   "nbconvert_exporter": "python",
   "pygments_lexer": "ipython3",
   "version": "3.6.8"
  }
 },
 "nbformat": 4,
 "nbformat_minor": 2
}
