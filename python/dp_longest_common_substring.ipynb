{
 "cells": [
  {
   "cell_type": "code",
   "execution_count": 12,
   "metadata": {},
   "outputs": [
    {
     "name": "stdout",
     "output_type": "stream",
     "text": [
      "2\n"
     ]
    }
   ],
   "source": [
    "A = \"aacbecaa\"\n",
    "\n",
    "lA = len(A)\n",
    "B = A[::-1]\n",
    "dp = [[0]*(lA+1) for i in range(lA+1)]\n",
    "\n",
    "def max(x, y):\n",
    "    return x if x > y else y\n",
    "max_len = 0\n",
    "for i in range(len(A)):\n",
    "    for j in range(len(B)):\n",
    "        # (only for subsequence) dp[i+1][j+1] = max(dp[i][j+1], dp[i+1][j])\n",
    "        if A[i] == B[j]:\n",
    "            dp[i+1][j+1] = max(dp[i][j]+1, dp[i+1][j+1])\n",
    "            if j + (i - dp[i+1][j+1] + 1) == lA - 1:\n",
    "                max_len = max(max_len, dp[i+1][j+1])\n",
    "                # print (dp[i+1][j+1], i, j, A[i], B[j])\n",
    "print (max_len)\n",
    "# print (A)\n",
    "# print (B)"
   ]
  },
  {
   "cell_type": "code",
   "execution_count": null,
   "metadata": {},
   "outputs": [],
   "source": []
  }
 ],
 "metadata": {
  "kernelspec": {
   "display_name": "Python 3",
   "language": "python",
   "name": "python3"
  },
  "language_info": {
   "codemirror_mode": {
    "name": "ipython",
    "version": 3
   },
   "file_extension": ".py",
   "mimetype": "text/x-python",
   "name": "python",
   "nbconvert_exporter": "python",
   "pygments_lexer": "ipython3",
   "version": "3.6.8"
  }
 },
 "nbformat": 4,
 "nbformat_minor": 2
}
