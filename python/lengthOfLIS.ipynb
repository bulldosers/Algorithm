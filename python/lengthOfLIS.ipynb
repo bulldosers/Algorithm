{
 "cells": [
  {
   "cell_type": "code",
   "execution_count": 1,
   "metadata": {},
   "outputs": [],
   "source": [
    "import numpy as np"
   ]
  },
  {
   "cell_type": "code",
   "execution_count": 3,
   "metadata": {},
   "outputs": [
    {
     "data": {
      "text/plain": [
       "2"
      ]
     },
     "execution_count": 3,
     "metadata": {},
     "output_type": "execute_result"
    }
   ],
   "source": [
    "def lengthOfLIS(nums):\n",
    "    \"\"\"\n",
    "    :type nums: List[int]\n",
    "    :rtype: int\n",
    "    \"\"\"\n",
    "    ans = 0\n",
    "    f = [1] * len(nums)\n",
    "    for idx, i in enumerate(nums):\n",
    "        for jdx, j in enumerate(nums[:idx]):\n",
    "            if i > j and f[jdx] >= f[idx]:\n",
    "                f[idx] = f[jdx] + 1\n",
    "        ans = np.max([ans, f[idx]])\n",
    "    return ans\n",
    "lengthOfLIS([-2,-1])"
   ]
  },
  {
   "cell_type": "code",
   "execution_count": null,
   "metadata": {},
   "outputs": [],
   "source": []
  },
  {
   "cell_type": "code",
   "execution_count": 6,
   "metadata": {},
   "outputs": [
    {
     "name": "stdout",
     "output_type": "stream",
     "text": [
      "[1, 2, 3, 3, 4, 4, 5, 2]\n",
      "[1, 1, 1, 1, 2, 1, 3, 1]\n"
     ]
    },
    {
     "data": {
      "text/plain": [
       "3"
      ]
     },
     "execution_count": 6,
     "metadata": {},
     "output_type": "execute_result"
    }
   ],
   "source": [
    "def findNumberOfLIS(nums):\n",
    "    \"\"\"\n",
    "    :type nums: List[int]\n",
    "    :rtype: int\n",
    "    \"\"\"\n",
    "    if len(nums) == 0:\n",
    "        return 0\n",
    "    f = [1] * len(nums)\n",
    "    fn = [1] * len(nums)\n",
    "    max_len = 0\n",
    "    for i in range(len(nums)):\n",
    "        for j in range(i):\n",
    "            if nums[i] > nums[j]:\n",
    "                if f[i] == f[j] + 1:\n",
    "                    fn[i] += fn[j]\n",
    "                elif f[i] <= f[j]:\n",
    "                    f[i] = f[j] + 1\n",
    "                    fn[i] = fn[j]\n",
    "        if f[i] > max_len:\n",
    "            max_len = f[i]\n",
    "    ans = 0\n",
    "    for i in range(len(f)):\n",
    "        if f[i] == max_len:\n",
    "            ans += fn[i]\n",
    "    print (f)\n",
    "    print (fn)\n",
    "    return ans\n",
    "\n",
    "findNumberOfLIS([1,2,4,3,5,4,7,2])"
   ]
  },
  {
   "cell_type": "code",
   "execution_count": null,
   "metadata": {},
   "outputs": [],
   "source": []
  },
  {
   "cell_type": "code",
   "execution_count": 11,
   "metadata": {},
   "outputs": [
    {
     "name": "stdout",
     "output_type": "stream",
     "text": [
      "2\n",
      "[-2, -1]\n",
      "5\n",
      "[1, 2, 3, 4, 7]\n"
     ]
    }
   ],
   "source": [
    "class LIS(object):\n",
    "    def __init__(self):\n",
    "        self.queue = []\n",
    "        self.__len__ = 0\n",
    "    \n",
    "    def find(self, x):\n",
    "        if self.__len__ == 0 or self.queue[-1] < x:\n",
    "            return self.__len__\n",
    "        l = 0\n",
    "        r = self.__len__-1\n",
    "        for i in range(233):\n",
    "            if l == r:\n",
    "                return l\n",
    "            mid = int((l+r)/2)\n",
    "            if self.queue[mid] < x:\n",
    "                l = mid + 1\n",
    "            else:\n",
    "                r = mid\n",
    "        return 0\n",
    "    \n",
    "    def insert(self, idx, x):\n",
    "        if idx == self.__len__:\n",
    "            self.queue.append(x)\n",
    "            self.__len__ += 1\n",
    "        else:\n",
    "            self.queue[idx] = x\n",
    "    \n",
    "    def ans(self):\n",
    "        print (self.__len__)\n",
    "        print (self.queue)\n",
    "        \n",
    "def lengthOfLIS(nums):\n",
    "    \"\"\"\n",
    "    :type nums: List[int]\n",
    "    :rtype: int\n",
    "    \"\"\"\n",
    "    ans = 0\n",
    "    f = [1] * len(nums)\n",
    "    lis = LIS()\n",
    "    for x in nums:\n",
    "        lis.insert(lis.find(x), x)\n",
    "    lis.ans()\n",
    "lengthOfLIS([-2,-1])\n",
    "lengthOfLIS([1,2,4,3,5,4,7,2])\n"
   ]
  },
  {
   "cell_type": "code",
   "execution_count": null,
   "metadata": {},
   "outputs": [],
   "source": []
  },
  {
   "cell_type": "code",
   "execution_count": 12,
   "metadata": {},
   "outputs": [
    {
     "ename": "NameError",
     "evalue": "name 'SegmentTree' is not defined",
     "output_type": "error",
     "traceback": [
      "\u001b[0;31m---------------------------------------------------------------------------\u001b[0m",
      "\u001b[0;31mNameError\u001b[0m                                 Traceback (most recent call last)",
      "\u001b[0;32m<ipython-input-12-69bf64060b91>\u001b[0m in \u001b[0;36m<module>\u001b[0;34m\u001b[0m\n\u001b[1;32m      1\u001b[0m \u001b[0minput_list\u001b[0m \u001b[0;34m=\u001b[0m \u001b[0;34m[\u001b[0m\u001b[0;34m-\u001b[0m\u001b[0;36m2\u001b[0m\u001b[0;34m,\u001b[0m \u001b[0;36m0\u001b[0m\u001b[0;34m,\u001b[0m \u001b[0;36m3\u001b[0m\u001b[0;34m,\u001b[0m \u001b[0;34m-\u001b[0m\u001b[0;36m5\u001b[0m\u001b[0;34m,\u001b[0m \u001b[0;36m2\u001b[0m\u001b[0;34m,\u001b[0m \u001b[0;34m-\u001b[0m\u001b[0;36m1\u001b[0m\u001b[0;34m]\u001b[0m\u001b[0;34m\u001b[0m\u001b[0;34m\u001b[0m\u001b[0m\n\u001b[0;32m----> 2\u001b[0;31m \u001b[0mtest_st\u001b[0m \u001b[0;34m=\u001b[0m \u001b[0mSegmentTree\u001b[0m\u001b[0;34m(\u001b[0m\u001b[0minput_list\u001b[0m\u001b[0;34m,\u001b[0m \u001b[0mmerger_\u001b[0m\u001b[0;34m=\u001b[0m\u001b[0;32mlambda\u001b[0m \u001b[0mx\u001b[0m\u001b[0;34m,\u001b[0m \u001b[0my\u001b[0m\u001b[0;34m:\u001b[0m \u001b[0mx\u001b[0m\u001b[0;34m+\u001b[0m\u001b[0my\u001b[0m\u001b[0;34m)\u001b[0m     \u001b[0;31m# 这里以求和为例\u001b[0m\u001b[0;34m\u001b[0m\u001b[0;34m\u001b[0m\u001b[0m\n\u001b[0m\u001b[1;32m      3\u001b[0m \u001b[0mtest_st\u001b[0m\u001b[0;34m.\u001b[0m\u001b[0mprintSegmentTree\u001b[0m\u001b[0;34m(\u001b[0m\u001b[0;34m)\u001b[0m\u001b[0;34m\u001b[0m\u001b[0;34m\u001b[0m\u001b[0m\n\u001b[1;32m      4\u001b[0m \u001b[0mprint\u001b[0m\u001b[0;34m(\u001b[0m\u001b[0;34m)\u001b[0m\u001b[0;34m\u001b[0m\u001b[0;34m\u001b[0m\u001b[0m\n\u001b[1;32m      5\u001b[0m \u001b[0mprint\u001b[0m\u001b[0;34m(\u001b[0m\u001b[0;34m'索引区间[0, 4]上的元素的和为：'\u001b[0m\u001b[0;34m,\u001b[0m \u001b[0mtest_st\u001b[0m\u001b[0;34m.\u001b[0m\u001b[0mquery\u001b[0m\u001b[0;34m(\u001b[0m\u001b[0;36m0\u001b[0m\u001b[0;34m,\u001b[0m \u001b[0;36m4\u001b[0m\u001b[0;34m)\u001b[0m\u001b[0;34m)\u001b[0m\u001b[0;34m\u001b[0m\u001b[0;34m\u001b[0m\u001b[0m\n",
      "\u001b[0;31mNameError\u001b[0m: name 'SegmentTree' is not defined"
     ]
    }
   ],
   "source": []
  },
  {
   "cell_type": "code",
   "execution_count": null,
   "metadata": {},
   "outputs": [],
   "source": []
  }
 ],
 "metadata": {
  "kernelspec": {
   "display_name": "Python 3",
   "language": "python",
   "name": "python3"
  },
  "language_info": {
   "codemirror_mode": {
    "name": "ipython",
    "version": 3
   },
   "file_extension": ".py",
   "mimetype": "text/x-python",
   "name": "python",
   "nbconvert_exporter": "python",
   "pygments_lexer": "ipython3",
   "version": "3.6.8"
  }
 },
 "nbformat": 4,
 "nbformat_minor": 2
}
